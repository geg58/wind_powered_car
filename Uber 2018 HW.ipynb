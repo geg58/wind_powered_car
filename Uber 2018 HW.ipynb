{
 "cells": [
  {
   "cell_type": "markdown",
   "metadata": {},
   "source": [
    "## Uber Summer 2018 Internship Mechanical Engineering Homework\n",
    "#### - Made by Travis Brashears"
   ]
  },
  {
   "cell_type": "markdown",
   "metadata": {},
   "source": [
    "### This python notebook is a means to determine if a fleet of wind powered cars in Chicago is feasible."
   ]
  },
  {
   "cell_type": "markdown",
   "metadata": {},
   "source": [
    "**Challenge:**\n",
    "Your boss has decided that it is feasible to field a fleet of wind powered cars in Chicago. Your\n",
    "task to to prove/disprove the feasibility of this.\n",
    "\n",
    "**Considerations:**\n",
    "1. Available wind\n",
    "2. Max vehicle speed with regards to wind speed and direction\n",
    "   1. 1-6 passengers and baggage\n",
    "3. Vehicle Weight\n",
    "4. Rolling Resistance\n",
    "\n",
    "**You should submit:**\n",
    "1. Detailed description on the methods you researched\n",
    "2. Description of assumptions you made and why\n",
    "3. Tool you developed to calculate your results\n",
    "  1. User friendly and editable\n",
    "  2. Math and assumptions should be documented\n",
    "  3. Excel or Python are preferred\n",
    "4. Define what conditions make this feasible/infeasible"
   ]
  },
  {
   "cell_type": "code",
   "execution_count": 213,
   "metadata": {
    "collapsed": true
   },
   "outputs": [],
   "source": [
    "import numpy as np\n",
    "import matplotlib.pyplot as plt"
   ]
  },
  {
   "cell_type": "markdown",
   "metadata": {},
   "source": [
    "### Physics Equations\n",
    "\n",
    "**Rolling Resistance:** $$F_r = c \\cdot W = c \\cdot m \\cdot a_g = \\frac{c_l \\cdot W} {r}$$\n",
    "The coefficient of rolling resistance for a slow rigid wheel on a perfectly elastic surface, not adjusted for velocity, can be calculated by: $$c = \\sqrt{z/d}$$ z = sinkage, d = wheel diameter.\n",
    "For cars on a road c ~ .01-.02\n",
    "\n",
    "\n",
    "**Vehicle Speed:** \n",
    "$$P_{wind} = {0.5 \\cdot \\rho \\cdot A \\cdot v^3 \\cdot C_p}$$\n",
    "The power due to wind on a wind turbine with:\n",
    "\n",
    "$$\\rho = 1.225 kg/m^3$$\n",
    "$$A = \\pi \\cdot (d/2)^2$$\n",
    "\n",
    "Now converting power from turbine to power in wheels has an effiecency coefficient of mu.\n",
    "$$P_{wind} \\cdot \\mu = P_{wheel}$$\n",
    "\n",
    "The TRS is a common metric for measuring the Blade Tip Speed of a wind turbine to the wind speed hitting the turbine.\n",
    "\n",
    "$$TSR = \\frac{\\text{Blade Tip Speed}} {\\text{Wind Speed}} = \\text{6 for 3 blade system}$$\n",
    "\n",
    "We now calculate the angular velocity acting on the turbine.\n",
    "\n",
    "$$\\omega = \\frac{2 \\cdot v \\cdot TSR} {D}$$\n",
    "\n",
    "We then use Pressure and angular velocity to get torque to the solce for the force due to wind on the system.\n",
    "$$Torque = \\frac{P_{wind}} {\\omega}$$\n",
    "$$F_{wind} = \\frac{Torque} {r}$$\n",
    "$$F_{wind} = \\frac{P_{wind} \\cdot \\mu} {\\omega \\cdot r}$$\n",
    "\n"
   ]
  },
  {
   "cell_type": "markdown",
   "metadata": {},
   "source": [
    "### Available Wind: \n",
    "**Month/Season -> Wind Speed:** Based on data from 1991-2000 and measured at the standard height of 33 feet (10 meters). In units of MPH. \n",
    "\n",
    "Courtesy of http://www.isws.illinois.edu"
   ]
  },
  {
   "cell_type": "code",
   "execution_count": 123,
   "metadata": {
    "collapsed": true
   },
   "outputs": [],
   "source": [
    "January = 8.7\n",
    "February = 8.6\n",
    "March = 9.1\n",
    "April =9.2\n",
    "May =7.6\n",
    "June =6.3\n",
    "July =5.6\n",
    "August = 5.0\n",
    "September = 5.6\n",
    "October = 7.0\n",
    "November = 8.4\n",
    "December = 7.9\n",
    "Winter  = 8.4\n",
    "Spring = 8.7\n",
    "Summer = 5.7\n",
    "Fall = 7.0\n",
    "Annual = 7.4 #used in calculation\n",
    "Annual_m = 3.31 #meters/second"
   ]
  },
  {
   "cell_type": "markdown",
   "metadata": {},
   "source": [
    "#### Weight of Vehicle, People, and Cargo:\n",
    "\n",
    "Typical weight of a human: 200kg\n",
    "\n",
    "Typical weight of human cargo: 20kg\n",
    "\n",
    "Typical weight of wind powered car: 200kg for one person and falls off as: $$sqrt{(passengers)}$$ for adding an additional passenger up to a max of 6 people."
   ]
  },
  {
   "cell_type": "code",
   "execution_count": 182,
   "metadata": {
    "collapsed": false
   },
   "outputs": [],
   "source": [
    "# Constants\n",
    "Human_weight = 200 # kg\n",
    "Human_cargo = 20 #kg\n",
    "Car = 200 #kg\n",
    "a_g = 9.81 #m/s^2\n",
    "rho_air = 1.225 #kg/m^3\n",
    "d_turbine = 5 #meter\n",
    "r  = (d_turbine/2) #meters\n",
    "A = np.pi * (r**2) #m^2\n",
    "C_d = 0.25 # coeffiecent of drag force on a wind powered car.\n",
    "C_p = .5 # Coeffiecent of conversion of kinetic  energy  of  the  wind  into  mechanical  energy  turning  a  roto. Limited by Betz' Law.\n",
    "TSR = 6 # for any 3 blade turbine\n",
    "d_wheel = 0.3 #meters\n",
    "mu = .8 # Used for converting power from turbine to power in wheels has an effiecency coefficient of mu"
   ]
  },
  {
   "cell_type": "code",
   "execution_count": 102,
   "metadata": {
    "collapsed": false
   },
   "outputs": [
    {
     "name": "stdout",
     "output_type": "stream",
     "text": [
      "Enter number of people traveling: 2\n"
     ]
    }
   ],
   "source": [
    "# User Iputs\n",
    "Human_count = int(input(\"Enter number of people traveling: \"))"
   ]
  },
  {
   "cell_type": "code",
   "execution_count": 103,
   "metadata": {
    "collapsed": false
   },
   "outputs": [
    {
     "data": {
      "text/plain": [
       "722.84271247461902"
      ]
     },
     "execution_count": 103,
     "metadata": {},
     "output_type": "execute_result"
    }
   ],
   "source": [
    "Total_mass = (Human_weight+Human_cargo)*Human_count + (Car * np.sqrt(Human_count))\n",
    "Total_mass"
   ]
  },
  {
   "cell_type": "code",
   "execution_count": 209,
   "metadata": {
    "collapsed": false
   },
   "outputs": [
    {
     "data": {
      "text/plain": [
       "3.3441754496957099"
      ]
     },
     "execution_count": 209,
     "metadata": {},
     "output_type": "execute_result"
    }
   ],
   "source": [
    "def power_wind (velocity):\n",
    "    #Calculated the wind power - just pass in the velocity of the wind!\n",
    "    P_wind = 0.5 * rho_air * A * velocity**3 * C_p\n",
    "    return P_wind\n",
    "def force_accel (Total_mass, P_wind, wind_vel):\n",
    "    #calculates rolling force, omega, force_wind, Net force, and accelleration. \n",
    "    Force_rolling = .01 * Total_mass * a_g # .01 comes from rolling resistance section description above.\n",
    "    omega = (2 * wind_vel * TSR)/(d_turbine) # Have to calculate omega in here so it gets updated for numerical calc.\n",
    "    Force_wind = (P_wind * mu)/(omega * (d_wheel/2))\n",
    "    Net_force = Force_wind - Force_rolling\n",
    "    accel = Net_force/Total_mass\n",
    "    return(Force_rolling, Force_wind, Net_force, omega, accel)\n",
    "\n",
    "def force_accel_a (Total_mass, P_wind, wind_vel):\n",
    "    #Very similiar to above funnction, but it adds drag force for when you drive against the wind.\n",
    "    Force_rolling = .01 * Total_mass * a_g\n",
    "    Force_drag = 0.5 * rho_air * wind_vel**2 * C_d\n",
    "    omega = (2 * wind_vel * TSR)/(d_turbine)\n",
    "    Force_wind = (P_wind * mu)/(omega * (d_wheel/2))\n",
    "    Net_force = Force_wind - Force_rolling - Force_drag\n",
    "    accel = Net_force/Total_mass\n",
    "    return(Force_rolling, Force_wind, Net_force, omega, accel)\n",
    "\n",
    "def numerical_vel_w (v_wind, t, steps):\n",
    "    #numerically calculates the velocity. This is needed because accelleration decreases as you get up to speed with the wind.\n",
    "    time = np.linspace(0,t,steps)\n",
    "    dt = time[1]\n",
    "    velocity = 0\n",
    "    P_wind =  power_wind(v_wind)\n",
    "    for _ in time: \n",
    "        _, _, _, _, accel = force_accel(Total_mass, P_wind, v_wind - velocity)\n",
    "        velocity += accel*dt\n",
    "        P_wind = power_wind(v_wind - velocity)    \n",
    "    return velocity \n",
    "\n",
    "def numerical_vel_a (v_wind, t, steps):\n",
    "    # similiar to above but for going against the wind.\n",
    "    time = np.linspace(0,t,steps)\n",
    "    dt = time[1]\n",
    "    velocity = 0\n",
    "    P_wind =  power_wind(v_wind)\n",
    "    for _ in time: \n",
    "        _, _, _, _, accel = force_accel_a(Total_mass, P_wind, v_wind + velocity)\n",
    "        velocity += accel*dt \n",
    "        P_wind = power_wind(v_wind)    \n",
    "    return velocity "
   ]
  },
  {
   "cell_type": "code",
   "execution_count": 248,
   "metadata": {
    "collapsed": false
   },
   "outputs": [
    {
     "data": {
      "image/png": "[encoded data removed]",
      "text/plain": [
       "<matplotlib.figure.Figure at 0x10d39ca58>"
      ]
     },
     "metadata": {},
     "output_type": "display_data"
    }
   ],
   "source": [
    "x = range(1,400,1)\n",
    "y = []\n",
    "for i in x:\n",
    "    y.append(numerical_vel_a(3.4, i, 100))\n",
    "plt.plot(x,y)\n",
    "plt.title('Velocity of car against wind')\n",
    "plt.ylabel('Speed in m/s')\n",
    "plt.xlabel('Time in seconds')\n",
    "plt.show()\n"
   ]
  },
  {
   "cell_type": "code",
   "execution_count": 247,
   "metadata": {
    "collapsed": false
   },
   "outputs": [
    {
     "data": {
      "image/png": "[encoded data removed]",
      "text/plain": [
       "<matplotlib.figure.Figure at 0x109c86470>"
      ]
     },
     "metadata": {},
     "output_type": "display_data"
    }
   ],
   "source": [
    "x = range(1,200,1)\n",
    "y = []\n",
    "for i in x:\n",
    "    y.append(numerical_vel(3.4, i, 100))\n",
    "plt.plot(x,y)\n",
    "plt.title('Velocity of car with wind')\n",
    "plt.ylabel('Speed in m/s')\n",
    "plt.xlabel('Time in seconds')\n",
    "plt.show()"
   ]
  },
  {
   "cell_type": "markdown",
   "metadata": {},
   "source": [
    "### Feasability:\n",
    "\n",
    "Based on the provided data, I don't think this is very feasible for a high speed transit option. But I do believe for low-speed cruising this could potentially be an option, if the market is there. Or for very niched areas around Chicago for signle person drives. (As getting the mass low is important)\n",
    "\n",
    "#### Assumptions:\n",
    "The case provided above is with wind speeds of 3.4m/s, 2 passengers, a turbine of 5m in diameter, and wheels of .3m in diamter. These are the most important factors to change/adjust/analyze. The above example merely offers one example of what is possible.\n",
    "\n",
    "It also follows from the above that you only travel with or agianst the wind, traveling in other directions will fall between these two regimes. I also didnt assume any lofting affects that happen with a turbine in a stream. Some wind powered cars can get going really fast if they travel against the wind because of the following:\n",
    "\n",
    "$$ \\cfrac {V} {V_\\infty} = \\cfrac {1} {a} -1$$\n",
    "\n",
    "They are able to get a, the axial induction very close to zero."
   ]
  },
  {
   "cell_type": "markdown",
   "metadata": {},
   "source": [
    "### *References:*\n",
    "*Wind Powered Car Analysis: http://orbit.dtu.dk/fedora/objects/orbit:55484/datastreams/file_3748519/content*\n",
    "\n",
    "*Wind Turbine Motion: https://www.raeng.org.uk/publications/other/23-wind-turbine*\n",
    "\n",
    "*Wind Power Car Blades: http://ia-e.org/siteadmin/upload/3341IAE0315209.pdf*\n",
    "\n",
    "*Wind Speed: http://web.mit.edu/windenergy/windweek/Presentations/Wind%20Energy%20101.pdf*\n",
    "\n",
    "*Forces on Sails: https://en.wikipedia.org/wiki/Forces_on_sails*\n",
    "\n",
    "*Down wind propeller vehicle: http://www.ijsrp.org/research-paper-0413/ijsrp-p16135.pdf*\n",
    "\n",
    "*Wind powered car wiki: https://en.wikipedia.org/wiki/Wind-powered_vehicle*"
   ]
  },
  {
   "cell_type": "code",
   "execution_count": null,
   "metadata": {
    "collapsed": true
   },
   "outputs": [],
   "source": []
  }
 ],
 "metadata": {
  "kernelspec": {
   "display_name": "Python 3",
   "language": "python",
   "name": "python3"
  },
  "language_info": {
   "codemirror_mode": {
    "name": "ipython",
    "version": 3
   },
   "file_extension": ".py",
   "mimetype": "text/x-python",
   "name": "python",
   "nbconvert_exporter": "python",
   "pygments_lexer": "ipython3",
   "version": "3.6.0"
  }
 },
 "nbformat": 4,
 "nbformat_minor": 2
}
